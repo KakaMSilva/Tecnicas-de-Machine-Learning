{
  "nbformat": 4,
  "nbformat_minor": 0,
  "metadata": {
    "colab": {
      "provenance": []
    },
    "kernelspec": {
      "name": "python3",
      "display_name": "Python 3"
    },
    "language_info": {
      "name": "python"
    }
  },
  "cells": [
    {
      "cell_type": "markdown",
      "source": [
        "# **Carregar o dataset**"
      ],
      "metadata": {
        "id": "tE62a39YSkKP"
      }
    },
    {
      "cell_type": "code",
      "execution_count": 1,
      "metadata": {
        "id": "nxQhTCcaSNyT"
      },
      "outputs": [],
      "source": [
        "import pandas as pd # importando o pandas para manipularmos o dataset\n",
        "import numpy as np # biblioteca para manipulação de vetores e matrizes grandes além de outras manipulações de dados de larga escala\n",
        "import seaborn as sns # importando o Seaborn para visualizar o comportamento dos dados\n",
        "import matplotlib.cm as mcm # biblioteca para mostrar gráficos (espeficamente uma parte para cores)\n",
        "import matplotlib.pyplot as plt # importando o Matplotlib para o elbow method\n",
        "import pandas_profiling\n",
        "\n",
        "from pandas_profiling import ProfileReport # importando o pandas-profiling para fazer o profile do dataset\n",
        "from sklearn.model_selection import train_test_split, RandomizedSearchCV, GridSearchCV# utilizado para o split entre treinamento e teste\n",
        "from sklearn.neighbors import KNeighborsRegressor # KNN para regressão\n",
        "from sklearn.neighbors import KNeighborsClassifier # utilizado para treinar o KNN\n",
        "from sklearn.linear_model import LinearRegression, LogisticRegression # Regressão linear, utilizado para treinar um modelo de classificação (regressão logística - apesar do nome é para problemas de classificação)\n",
        "from sklearn.svm import SVR # SVM para regressão\n",
        "from sklearn.decomposition import PCA # PCA como aprendizagem não-supervisionada\n",
        "from sklearn.preprocessing import RobustScaler, OrdinalEncoder, OneHotEncoder # utilizado para que todas as entradas estejam na mesma escala numérica\n",
        "from sklearn.preprocessing import StandardScaler\n",
        "from sklearn.feature_selection import * # importando todas as funções específicas de seleção de atributos do scikit-learn\n",
        "from sklearn.decomposition import * # importando todas as funções específicas para a extração de atributos do scikit-learn\n",
        "from sklearn.cluster import * # importando todas as funções específicas para o agrupamento\n",
        "from sklearn.ensemble import * # importando vários ensembles para que possamos testá-los posteriormente\n",
        "from sklearn.pipeline import Pipeline # utilizado para criar pipelines\n",
        "from sklearn.metrics import f1_score, make_scorer # utilizado para calcular a performance dos pipelines\n",
        "from lightgbm import LGBMClassifier # utilizado para treinar o LightGBM\n",
        "from sklearn import set_config # utilizado para mostrar os passos do pipeline de forma visual\n",
        "from sklearn.impute import SimpleImputer\n",
        "from sklearn.metrics import *\n",
        "\n",
        "set_config(display='diagram') # forçando para que os passos do pipeline sejam mostrados em visual"
      ]
    },
    {
      "cell_type": "code",
      "source": [
        "#seleção do dataset\n",
        "df_nba = pd.read_csv('/content/nba_stats.csv') #carrega o dataset do diretorio \n",
        "df_nba.describe() #mostra destacaria os dados\n",
        "#display(df_nba.columns)"
      ],
      "metadata": {
        "colab": {
          "base_uri": "https://localhost:8080/",
          "height": 0
        },
        "id": "lbuC6SZtSrG3",
        "outputId": "0f52ede0-8db1-49da-d4e5-7468fd21df62"
      },
      "execution_count": 2,
      "outputs": [
        {
          "output_type": "execute_result",
          "data": {
            "text/plain": [
              "                Ano         Idade         Jogos  TrueShootingPercentage  \\\n",
              "count  24624.000000  24616.000000  24624.000000            24538.000000   \n",
              "mean    1992.594989     26.664405     50.837110                0.493001   \n",
              "std       17.429594      3.841892     26.496161                0.094469   \n",
              "min     1950.000000     18.000000      1.000000                0.000000   \n",
              "25%     1981.000000     24.000000     27.000000                0.458000   \n",
              "50%     1996.000000     26.000000     58.000000                0.506000   \n",
              "75%     2007.000000     29.000000     75.000000                0.544000   \n",
              "max     2017.000000     44.000000     88.000000                1.136000   \n",
              "\n",
              "       FreeThrowRate  OffensiveWinShares  DefensiveWinShares     WinShares  \\\n",
              "count   24525.000000        24585.000000        24585.000000  24585.000000   \n",
              "mean        0.325455            1.257307            1.227395      2.485796   \n",
              "std         0.218971            2.136256            1.269613      3.058638   \n",
              "min         0.000000           -5.100000           -1.000000     -2.800000   \n",
              "25%         0.208000           -0.100000            0.200000      0.200000   \n",
              "50%         0.296000            0.400000            0.800000      1.400000   \n",
              "75%         0.400000            1.900000            1.800000      3.800000   \n",
              "max         6.000000           18.300000           16.000000     25.400000   \n",
              "\n",
              "         FieldGoals  FieldGoalAttempts  ...  TwoPointFieldGoals  \\\n",
              "count  24624.000000       24624.000000  ...        24624.000000   \n",
              "mean     195.325820         430.645752  ...          178.250447   \n",
              "std      188.114361         397.624715  ...          179.478923   \n",
              "min        0.000000           0.000000  ...            0.000000   \n",
              "25%       41.000000          99.000000  ...           35.000000   \n",
              "50%      141.000000         321.000000  ...          122.000000   \n",
              "75%      299.000000         661.000000  ...          268.000000   \n",
              "max     1597.000000        3159.000000  ...         1597.000000   \n",
              "\n",
              "       TwoPointFieldGoalAttempts  TwoPointFieldGoalPercentage  \\\n",
              "count               24624.000000                 24496.000000   \n",
              "mean                  381.756782                     0.445343   \n",
              "std                   371.260335                     0.099803   \n",
              "min                     0.000000                     0.000000   \n",
              "25%                    82.000000                     0.407000   \n",
              "50%                   270.000000                     0.456000   \n",
              "75%                   579.250000                     0.496000   \n",
              "max                  3159.000000                     1.000000   \n",
              "\n",
              "       EffectiveFieldGoalPercentage    FreeThrows  FreeThrowAttempts  \\\n",
              "count                  24525.000000  24624.000000       24624.000000   \n",
              "mean                       0.450658    102.389336         136.775219   \n",
              "std                        0.099200    113.373565         146.078918   \n",
              "min                        0.000000      0.000000           0.000000   \n",
              "25%                        0.414000     18.000000          27.000000   \n",
              "50%                        0.463000     63.000000          88.000000   \n",
              "75%                        0.501000    149.000000         201.000000   \n",
              "max                        1.500000    840.000000        1363.000000   \n",
              "\n",
              "       FreeThrowPercentage       Assists  PersonalFouls        Points  \n",
              "count         23766.000000  24624.000000   24624.000000  24624.000000  \n",
              "mean              0.719279    114.852623     116.339222    510.116350  \n",
              "std               0.141824    135.863913      84.791873    492.922981  \n",
              "min               0.000000      0.000000       0.000000      0.000000  \n",
              "25%               0.657000     19.000000      39.000000    106.000000  \n",
              "50%               0.743000     68.000000     109.000000    364.000000  \n",
              "75%               0.808000    160.000000     182.000000    778.000000  \n",
              "max               1.000000   1164.000000     386.000000   4029.000000  \n",
              "\n",
              "[8 rows x 21 columns]"
            ],
            "text/html": [
              "\n",
              "  <div id=\"df-08fd01f8-c24e-4a13-ac2f-1c647ec33411\">\n",
              "    <div class=\"colab-df-container\">\n",
              "      <div>\n",
              "<style scoped>\n",
              "    .dataframe tbody tr th:only-of-type {\n",
              "        vertical-align: middle;\n",
              "    }\n",
              "\n",
              "    .dataframe tbody tr th {\n",
              "        vertical-align: top;\n",
              "    }\n",
              "\n",
              "    .dataframe thead th {\n",
              "        text-align: right;\n",
              "    }\n",
              "</style>\n",
              "<table border=\"1\" class=\"dataframe\">\n",
              "  <thead>\n",
              "    <tr style=\"text-align: right;\">\n",
              "      <th></th>\n",
              "      <th>Ano</th>\n",
              "      <th>Idade</th>\n",
              "      <th>Jogos</th>\n",
              "      <th>TrueShootingPercentage</th>\n",
              "      <th>FreeThrowRate</th>\n",
              "      <th>OffensiveWinShares</th>\n",
              "      <th>DefensiveWinShares</th>\n",
              "      <th>WinShares</th>\n",
              "      <th>FieldGoals</th>\n",
              "      <th>FieldGoalAttempts</th>\n",
              "      <th>...</th>\n",
              "      <th>TwoPointFieldGoals</th>\n",
              "      <th>TwoPointFieldGoalAttempts</th>\n",
              "      <th>TwoPointFieldGoalPercentage</th>\n",
              "      <th>EffectiveFieldGoalPercentage</th>\n",
              "      <th>FreeThrows</th>\n",
              "      <th>FreeThrowAttempts</th>\n",
              "      <th>FreeThrowPercentage</th>\n",
              "      <th>Assists</th>\n",
              "      <th>PersonalFouls</th>\n",
              "      <th>Points</th>\n",
              "    </tr>\n",
              "  </thead>\n",
              "  <tbody>\n",
              "    <tr>\n",
              "      <th>count</th>\n",
              "      <td>24624.000000</td>\n",
              "      <td>24616.000000</td>\n",
              "      <td>24624.000000</td>\n",
              "      <td>24538.000000</td>\n",
              "      <td>24525.000000</td>\n",
              "      <td>24585.000000</td>\n",
              "      <td>24585.000000</td>\n",
              "      <td>24585.000000</td>\n",
              "      <td>24624.000000</td>\n",
              "      <td>24624.000000</td>\n",
              "      <td>...</td>\n",
              "      <td>24624.000000</td>\n",
              "      <td>24624.000000</td>\n",
              "      <td>24496.000000</td>\n",
              "      <td>24525.000000</td>\n",
              "      <td>24624.000000</td>\n",
              "      <td>24624.000000</td>\n",
              "      <td>23766.000000</td>\n",
              "      <td>24624.000000</td>\n",
              "      <td>24624.000000</td>\n",
              "      <td>24624.000000</td>\n",
              "    </tr>\n",
              "    <tr>\n",
              "      <th>mean</th>\n",
              "      <td>1992.594989</td>\n",
              "      <td>26.664405</td>\n",
              "      <td>50.837110</td>\n",
              "      <td>0.493001</td>\n",
              "      <td>0.325455</td>\n",
              "      <td>1.257307</td>\n",
              "      <td>1.227395</td>\n",
              "      <td>2.485796</td>\n",
              "      <td>195.325820</td>\n",
              "      <td>430.645752</td>\n",
              "      <td>...</td>\n",
              "      <td>178.250447</td>\n",
              "      <td>381.756782</td>\n",
              "      <td>0.445343</td>\n",
              "      <td>0.450658</td>\n",
              "      <td>102.389336</td>\n",
              "      <td>136.775219</td>\n",
              "      <td>0.719279</td>\n",
              "      <td>114.852623</td>\n",
              "      <td>116.339222</td>\n",
              "      <td>510.116350</td>\n",
              "    </tr>\n",
              "    <tr>\n",
              "      <th>std</th>\n",
              "      <td>17.429594</td>\n",
              "      <td>3.841892</td>\n",
              "      <td>26.496161</td>\n",
              "      <td>0.094469</td>\n",
              "      <td>0.218971</td>\n",
              "      <td>2.136256</td>\n",
              "      <td>1.269613</td>\n",
              "      <td>3.058638</td>\n",
              "      <td>188.114361</td>\n",
              "      <td>397.624715</td>\n",
              "      <td>...</td>\n",
              "      <td>179.478923</td>\n",
              "      <td>371.260335</td>\n",
              "      <td>0.099803</td>\n",
              "      <td>0.099200</td>\n",
              "      <td>113.373565</td>\n",
              "      <td>146.078918</td>\n",
              "      <td>0.141824</td>\n",
              "      <td>135.863913</td>\n",
              "      <td>84.791873</td>\n",
              "      <td>492.922981</td>\n",
              "    </tr>\n",
              "    <tr>\n",
              "      <th>min</th>\n",
              "      <td>1950.000000</td>\n",
              "      <td>18.000000</td>\n",
              "      <td>1.000000</td>\n",
              "      <td>0.000000</td>\n",
              "      <td>0.000000</td>\n",
              "      <td>-5.100000</td>\n",
              "      <td>-1.000000</td>\n",
              "      <td>-2.800000</td>\n",
              "      <td>0.000000</td>\n",
              "      <td>0.000000</td>\n",
              "      <td>...</td>\n",
              "      <td>0.000000</td>\n",
              "      <td>0.000000</td>\n",
              "      <td>0.000000</td>\n",
              "      <td>0.000000</td>\n",
              "      <td>0.000000</td>\n",
              "      <td>0.000000</td>\n",
              "      <td>0.000000</td>\n",
              "      <td>0.000000</td>\n",
              "      <td>0.000000</td>\n",
              "      <td>0.000000</td>\n",
              "    </tr>\n",
              "    <tr>\n",
              "      <th>25%</th>\n",
              "      <td>1981.000000</td>\n",
              "      <td>24.000000</td>\n",
              "      <td>27.000000</td>\n",
              "      <td>0.458000</td>\n",
              "      <td>0.208000</td>\n",
              "      <td>-0.100000</td>\n",
              "      <td>0.200000</td>\n",
              "      <td>0.200000</td>\n",
              "      <td>41.000000</td>\n",
              "      <td>99.000000</td>\n",
              "      <td>...</td>\n",
              "      <td>35.000000</td>\n",
              "      <td>82.000000</td>\n",
              "      <td>0.407000</td>\n",
              "      <td>0.414000</td>\n",
              "      <td>18.000000</td>\n",
              "      <td>27.000000</td>\n",
              "      <td>0.657000</td>\n",
              "      <td>19.000000</td>\n",
              "      <td>39.000000</td>\n",
              "      <td>106.000000</td>\n",
              "    </tr>\n",
              "    <tr>\n",
              "      <th>50%</th>\n",
              "      <td>1996.000000</td>\n",
              "      <td>26.000000</td>\n",
              "      <td>58.000000</td>\n",
              "      <td>0.506000</td>\n",
              "      <td>0.296000</td>\n",
              "      <td>0.400000</td>\n",
              "      <td>0.800000</td>\n",
              "      <td>1.400000</td>\n",
              "      <td>141.000000</td>\n",
              "      <td>321.000000</td>\n",
              "      <td>...</td>\n",
              "      <td>122.000000</td>\n",
              "      <td>270.000000</td>\n",
              "      <td>0.456000</td>\n",
              "      <td>0.463000</td>\n",
              "      <td>63.000000</td>\n",
              "      <td>88.000000</td>\n",
              "      <td>0.743000</td>\n",
              "      <td>68.000000</td>\n",
              "      <td>109.000000</td>\n",
              "      <td>364.000000</td>\n",
              "    </tr>\n",
              "    <tr>\n",
              "      <th>75%</th>\n",
              "      <td>2007.000000</td>\n",
              "      <td>29.000000</td>\n",
              "      <td>75.000000</td>\n",
              "      <td>0.544000</td>\n",
              "      <td>0.400000</td>\n",
              "      <td>1.900000</td>\n",
              "      <td>1.800000</td>\n",
              "      <td>3.800000</td>\n",
              "      <td>299.000000</td>\n",
              "      <td>661.000000</td>\n",
              "      <td>...</td>\n",
              "      <td>268.000000</td>\n",
              "      <td>579.250000</td>\n",
              "      <td>0.496000</td>\n",
              "      <td>0.501000</td>\n",
              "      <td>149.000000</td>\n",
              "      <td>201.000000</td>\n",
              "      <td>0.808000</td>\n",
              "      <td>160.000000</td>\n",
              "      <td>182.000000</td>\n",
              "      <td>778.000000</td>\n",
              "    </tr>\n",
              "    <tr>\n",
              "      <th>max</th>\n",
              "      <td>2017.000000</td>\n",
              "      <td>44.000000</td>\n",
              "      <td>88.000000</td>\n",
              "      <td>1.136000</td>\n",
              "      <td>6.000000</td>\n",
              "      <td>18.300000</td>\n",
              "      <td>16.000000</td>\n",
              "      <td>25.400000</td>\n",
              "      <td>1597.000000</td>\n",
              "      <td>3159.000000</td>\n",
              "      <td>...</td>\n",
              "      <td>1597.000000</td>\n",
              "      <td>3159.000000</td>\n",
              "      <td>1.000000</td>\n",
              "      <td>1.500000</td>\n",
              "      <td>840.000000</td>\n",
              "      <td>1363.000000</td>\n",
              "      <td>1.000000</td>\n",
              "      <td>1164.000000</td>\n",
              "      <td>386.000000</td>\n",
              "      <td>4029.000000</td>\n",
              "    </tr>\n",
              "  </tbody>\n",
              "</table>\n",
              "<p>8 rows × 21 columns</p>\n",
              "</div>\n",
              "      <button class=\"colab-df-convert\" onclick=\"convertToInteractive('df-08fd01f8-c24e-4a13-ac2f-1c647ec33411')\"\n",
              "              title=\"Convert this dataframe to an interactive table.\"\n",
              "              style=\"display:none;\">\n",
              "        \n",
              "  <svg xmlns=\"http://www.w3.org/2000/svg\" height=\"24px\"viewBox=\"0 0 24 24\"\n",
              "       width=\"24px\">\n",
              "    <path d=\"M0 0h24v24H0V0z\" fill=\"none\"/>\n",
              "    <path d=\"M18.56 5.44l.94 2.06.94-2.06 2.06-.94-2.06-.94-.94-2.06-.94 2.06-2.06.94zm-11 1L8.5 8.5l.94-2.06 2.06-.94-2.06-.94L8.5 2.5l-.94 2.06-2.06.94zm10 10l.94 2.06.94-2.06 2.06-.94-2.06-.94-.94-2.06-.94 2.06-2.06.94z\"/><path d=\"M17.41 7.96l-1.37-1.37c-.4-.4-.92-.59-1.43-.59-.52 0-1.04.2-1.43.59L10.3 9.45l-7.72 7.72c-.78.78-.78 2.05 0 2.83L4 21.41c.39.39.9.59 1.41.59.51 0 1.02-.2 1.41-.59l7.78-7.78 2.81-2.81c.8-.78.8-2.07 0-2.86zM5.41 20L4 18.59l7.72-7.72 1.47 1.35L5.41 20z\"/>\n",
              "  </svg>\n",
              "      </button>\n",
              "      \n",
              "  <style>\n",
              "    .colab-df-container {\n",
              "      display:flex;\n",
              "      flex-wrap:wrap;\n",
              "      gap: 12px;\n",
              "    }\n",
              "\n",
              "    .colab-df-convert {\n",
              "      background-color: #E8F0FE;\n",
              "      border: none;\n",
              "      border-radius: 50%;\n",
              "      cursor: pointer;\n",
              "      display: none;\n",
              "      fill: #1967D2;\n",
              "      height: 32px;\n",
              "      padding: 0 0 0 0;\n",
              "      width: 32px;\n",
              "    }\n",
              "\n",
              "    .colab-df-convert:hover {\n",
              "      background-color: #E2EBFA;\n",
              "      box-shadow: 0px 1px 2px rgba(60, 64, 67, 0.3), 0px 1px 3px 1px rgba(60, 64, 67, 0.15);\n",
              "      fill: #174EA6;\n",
              "    }\n",
              "\n",
              "    [theme=dark] .colab-df-convert {\n",
              "      background-color: #3B4455;\n",
              "      fill: #D2E3FC;\n",
              "    }\n",
              "\n",
              "    [theme=dark] .colab-df-convert:hover {\n",
              "      background-color: #434B5C;\n",
              "      box-shadow: 0px 1px 3px 1px rgba(0, 0, 0, 0.15);\n",
              "      filter: drop-shadow(0px 1px 2px rgba(0, 0, 0, 0.3));\n",
              "      fill: #FFFFFF;\n",
              "    }\n",
              "  </style>\n",
              "\n",
              "      <script>\n",
              "        const buttonEl =\n",
              "          document.querySelector('#df-08fd01f8-c24e-4a13-ac2f-1c647ec33411 button.colab-df-convert');\n",
              "        buttonEl.style.display =\n",
              "          google.colab.kernel.accessAllowed ? 'block' : 'none';\n",
              "\n",
              "        async function convertToInteractive(key) {\n",
              "          const element = document.querySelector('#df-08fd01f8-c24e-4a13-ac2f-1c647ec33411');\n",
              "          const dataTable =\n",
              "            await google.colab.kernel.invokeFunction('convertToInteractive',\n",
              "                                                     [key], {});\n",
              "          if (!dataTable) return;\n",
              "\n",
              "          const docLinkHtml = 'Like what you see? Visit the ' +\n",
              "            '<a target=\"_blank\" href=https://colab.research.google.com/notebooks/data_table.ipynb>data table notebook</a>'\n",
              "            + ' to learn more about interactive tables.';\n",
              "          element.innerHTML = '';\n",
              "          dataTable['output_type'] = 'display_data';\n",
              "          await google.colab.output.renderOutput(dataTable, element);\n",
              "          const docLink = document.createElement('div');\n",
              "          docLink.innerHTML = docLinkHtml;\n",
              "          element.appendChild(docLink);\n",
              "        }\n",
              "      </script>\n",
              "    </div>\n",
              "  </div>\n",
              "  "
            ]
          },
          "metadata": {},
          "execution_count": 2
        }
      ]
    },
    {
      "cell_type": "markdown",
      "source": [
        "# **Divisão do dataset**"
      ],
      "metadata": {
        "id": "hxijLcJpSrgX"
      }
    },
    {
      "cell_type": "code",
      "source": [
        "# criando uma cópia do dataset para fins de teste\n",
        "df_nba_copy = df_nba[~pd.isnull(df_nba[\"WinShares\"])].copy()\n",
        "df_nba_copy"
      ],
      "metadata": {
        "colab": {
          "base_uri": "https://localhost:8080/",
          "height": 0
        },
        "id": "_aLkCCy2Svzw",
        "outputId": "e65c8459-0b7a-4523-8cf9-7f6d8f253be6"
      },
      "execution_count": 3,
      "outputs": [
        {
          "output_type": "execute_result",
          "data": {
            "text/plain": [
              "        Ano Posicao  Idade  Jogos  TrueShootingPercentage  FreeThrowRate  \\\n",
              "0      1950     G-F   31.0     63                   0.368          0.467   \n",
              "1      1950      SG   29.0     49                   0.435          0.387   \n",
              "2      1950      SF   25.0     67                   0.394          0.259   \n",
              "3      1950       F   24.0     15                   0.312          0.395   \n",
              "4      1950       F   24.0     13                   0.308          0.378   \n",
              "...     ...     ...    ...    ...                     ...            ...   \n",
              "24619  2017      PF   24.0     62                   0.604          0.442   \n",
              "24620  2017       C   27.0     51                   0.508          0.247   \n",
              "24621  2017       C   20.0     19                   0.346          0.161   \n",
              "24622  2017      SF   22.0     44                   0.503          0.181   \n",
              "24623  2017       C   19.0     38                   0.547          0.206   \n",
              "\n",
              "       OffensiveWinShares  DefensiveWinShares  WinShares  FieldGoals  ...  \\\n",
              "0                    -0.1                 3.6        3.5         144  ...   \n",
              "1                     1.6                 0.6        2.2         102  ...   \n",
              "2                     0.9                 2.8        3.6         174  ...   \n",
              "3                    -0.5                -0.1       -0.6          22  ...   \n",
              "4                    -0.5                -0.1       -0.6          21  ...   \n",
              "...                   ...                 ...        ...         ...  ...   \n",
              "24619                 3.4                 2.2        5.6         253  ...   \n",
              "24620                 0.5                 0.6        1.0          78  ...   \n",
              "24621                -0.1                 0.1        0.0          10  ...   \n",
              "24622                -0.3                 0.8        0.5          88  ...   \n",
              "24623                 0.6                 0.5        1.1         126  ...   \n",
              "\n",
              "       TwoPointFieldGoals  TwoPointFieldGoalAttempts  \\\n",
              "0                     144                        516   \n",
              "1                     102                        274   \n",
              "2                     174                        499   \n",
              "3                      22                         86   \n",
              "4                      21                         82   \n",
              "...                   ...                        ...   \n",
              "24619                 253                        442   \n",
              "24620                  78                        157   \n",
              "24621                  10                         31   \n",
              "24622                  55                        122   \n",
              "24623                 126                        235   \n",
              "\n",
              "       TwoPointFieldGoalPercentage  EffectiveFieldGoalPercentage  FreeThrows  \\\n",
              "0                            0.279                         0.279         170   \n",
              "1                            0.372                         0.372          75   \n",
              "2                            0.349                         0.349          90   \n",
              "3                            0.256                         0.256          19   \n",
              "4                            0.256                         0.256          17   \n",
              "...                            ...                           ...         ...   \n",
              "24619                        0.572                         0.571         133   \n",
              "24620                        0.497                         0.494          22   \n",
              "24621                        0.323                         0.323           3   \n",
              "24622                        0.451                         0.473          31   \n",
              "24623                        0.536                         0.529          32   \n",
              "\n",
              "       FreeThrowAttempts  FreeThrowPercentage  Assists  PersonalFouls  Points  \n",
              "0                    241                0.705      176            217     458  \n",
              "1                    106                0.708      109             99     279  \n",
              "2                    129                0.698      140            192     438  \n",
              "3                     34                0.559       20             29      63  \n",
              "4                     31                0.548       20             27      59  \n",
              "...                  ...                  ...      ...            ...     ...  \n",
              "24619                196                0.679       99            189     639  \n",
              "24620                 39                0.564       42             61     178  \n",
              "24621                  5                0.600        4             17      23  \n",
              "24622                 40                0.775       36             78     240  \n",
              "24623                 49                0.653       30             66     284  \n",
              "\n",
              "[24585 rows x 22 columns]"
            ],
            "text/html": [
              "\n",
              "  <div id=\"df-7a657ecf-5d13-45d6-a980-890edd8171e4\">\n",
              "    <div class=\"colab-df-container\">\n",
              "      <div>\n",
              "<style scoped>\n",
              "    .dataframe tbody tr th:only-of-type {\n",
              "        vertical-align: middle;\n",
              "    }\n",
              "\n",
              "    .dataframe tbody tr th {\n",
              "        vertical-align: top;\n",
              "    }\n",
              "\n",
              "    .dataframe thead th {\n",
              "        text-align: right;\n",
              "    }\n",
              "</style>\n",
              "<table border=\"1\" class=\"dataframe\">\n",
              "  <thead>\n",
              "    <tr style=\"text-align: right;\">\n",
              "      <th></th>\n",
              "      <th>Ano</th>\n",
              "      <th>Posicao</th>\n",
              "      <th>Idade</th>\n",
              "      <th>Jogos</th>\n",
              "      <th>TrueShootingPercentage</th>\n",
              "      <th>FreeThrowRate</th>\n",
              "      <th>OffensiveWinShares</th>\n",
              "      <th>DefensiveWinShares</th>\n",
              "      <th>WinShares</th>\n",
              "      <th>FieldGoals</th>\n",
              "      <th>...</th>\n",
              "      <th>TwoPointFieldGoals</th>\n",
              "      <th>TwoPointFieldGoalAttempts</th>\n",
              "      <th>TwoPointFieldGoalPercentage</th>\n",
              "      <th>EffectiveFieldGoalPercentage</th>\n",
              "      <th>FreeThrows</th>\n",
              "      <th>FreeThrowAttempts</th>\n",
              "      <th>FreeThrowPercentage</th>\n",
              "      <th>Assists</th>\n",
              "      <th>PersonalFouls</th>\n",
              "      <th>Points</th>\n",
              "    </tr>\n",
              "  </thead>\n",
              "  <tbody>\n",
              "    <tr>\n",
              "      <th>0</th>\n",
              "      <td>1950</td>\n",
              "      <td>G-F</td>\n",
              "      <td>31.0</td>\n",
              "      <td>63</td>\n",
              "      <td>0.368</td>\n",
              "      <td>0.467</td>\n",
              "      <td>-0.1</td>\n",
              "      <td>3.6</td>\n",
              "      <td>3.5</td>\n",
              "      <td>144</td>\n",
              "      <td>...</td>\n",
              "      <td>144</td>\n",
              "      <td>516</td>\n",
              "      <td>0.279</td>\n",
              "      <td>0.279</td>\n",
              "      <td>170</td>\n",
              "      <td>241</td>\n",
              "      <td>0.705</td>\n",
              "      <td>176</td>\n",
              "      <td>217</td>\n",
              "      <td>458</td>\n",
              "    </tr>\n",
              "    <tr>\n",
              "      <th>1</th>\n",
              "      <td>1950</td>\n",
              "      <td>SG</td>\n",
              "      <td>29.0</td>\n",
              "      <td>49</td>\n",
              "      <td>0.435</td>\n",
              "      <td>0.387</td>\n",
              "      <td>1.6</td>\n",
              "      <td>0.6</td>\n",
              "      <td>2.2</td>\n",
              "      <td>102</td>\n",
              "      <td>...</td>\n",
              "      <td>102</td>\n",
              "      <td>274</td>\n",
              "      <td>0.372</td>\n",
              "      <td>0.372</td>\n",
              "      <td>75</td>\n",
              "      <td>106</td>\n",
              "      <td>0.708</td>\n",
              "      <td>109</td>\n",
              "      <td>99</td>\n",
              "      <td>279</td>\n",
              "    </tr>\n",
              "    <tr>\n",
              "      <th>2</th>\n",
              "      <td>1950</td>\n",
              "      <td>SF</td>\n",
              "      <td>25.0</td>\n",
              "      <td>67</td>\n",
              "      <td>0.394</td>\n",
              "      <td>0.259</td>\n",
              "      <td>0.9</td>\n",
              "      <td>2.8</td>\n",
              "      <td>3.6</td>\n",
              "      <td>174</td>\n",
              "      <td>...</td>\n",
              "      <td>174</td>\n",
              "      <td>499</td>\n",
              "      <td>0.349</td>\n",
              "      <td>0.349</td>\n",
              "      <td>90</td>\n",
              "      <td>129</td>\n",
              "      <td>0.698</td>\n",
              "      <td>140</td>\n",
              "      <td>192</td>\n",
              "      <td>438</td>\n",
              "    </tr>\n",
              "    <tr>\n",
              "      <th>3</th>\n",
              "      <td>1950</td>\n",
              "      <td>F</td>\n",
              "      <td>24.0</td>\n",
              "      <td>15</td>\n",
              "      <td>0.312</td>\n",
              "      <td>0.395</td>\n",
              "      <td>-0.5</td>\n",
              "      <td>-0.1</td>\n",
              "      <td>-0.6</td>\n",
              "      <td>22</td>\n",
              "      <td>...</td>\n",
              "      <td>22</td>\n",
              "      <td>86</td>\n",
              "      <td>0.256</td>\n",
              "      <td>0.256</td>\n",
              "      <td>19</td>\n",
              "      <td>34</td>\n",
              "      <td>0.559</td>\n",
              "      <td>20</td>\n",
              "      <td>29</td>\n",
              "      <td>63</td>\n",
              "    </tr>\n",
              "    <tr>\n",
              "      <th>4</th>\n",
              "      <td>1950</td>\n",
              "      <td>F</td>\n",
              "      <td>24.0</td>\n",
              "      <td>13</td>\n",
              "      <td>0.308</td>\n",
              "      <td>0.378</td>\n",
              "      <td>-0.5</td>\n",
              "      <td>-0.1</td>\n",
              "      <td>-0.6</td>\n",
              "      <td>21</td>\n",
              "      <td>...</td>\n",
              "      <td>21</td>\n",
              "      <td>82</td>\n",
              "      <td>0.256</td>\n",
              "      <td>0.256</td>\n",
              "      <td>17</td>\n",
              "      <td>31</td>\n",
              "      <td>0.548</td>\n",
              "      <td>20</td>\n",
              "      <td>27</td>\n",
              "      <td>59</td>\n",
              "    </tr>\n",
              "    <tr>\n",
              "      <th>...</th>\n",
              "      <td>...</td>\n",
              "      <td>...</td>\n",
              "      <td>...</td>\n",
              "      <td>...</td>\n",
              "      <td>...</td>\n",
              "      <td>...</td>\n",
              "      <td>...</td>\n",
              "      <td>...</td>\n",
              "      <td>...</td>\n",
              "      <td>...</td>\n",
              "      <td>...</td>\n",
              "      <td>...</td>\n",
              "      <td>...</td>\n",
              "      <td>...</td>\n",
              "      <td>...</td>\n",
              "      <td>...</td>\n",
              "      <td>...</td>\n",
              "      <td>...</td>\n",
              "      <td>...</td>\n",
              "      <td>...</td>\n",
              "      <td>...</td>\n",
              "    </tr>\n",
              "    <tr>\n",
              "      <th>24619</th>\n",
              "      <td>2017</td>\n",
              "      <td>PF</td>\n",
              "      <td>24.0</td>\n",
              "      <td>62</td>\n",
              "      <td>0.604</td>\n",
              "      <td>0.442</td>\n",
              "      <td>3.4</td>\n",
              "      <td>2.2</td>\n",
              "      <td>5.6</td>\n",
              "      <td>253</td>\n",
              "      <td>...</td>\n",
              "      <td>253</td>\n",
              "      <td>442</td>\n",
              "      <td>0.572</td>\n",
              "      <td>0.571</td>\n",
              "      <td>133</td>\n",
              "      <td>196</td>\n",
              "      <td>0.679</td>\n",
              "      <td>99</td>\n",
              "      <td>189</td>\n",
              "      <td>639</td>\n",
              "    </tr>\n",
              "    <tr>\n",
              "      <th>24620</th>\n",
              "      <td>2017</td>\n",
              "      <td>C</td>\n",
              "      <td>27.0</td>\n",
              "      <td>51</td>\n",
              "      <td>0.508</td>\n",
              "      <td>0.247</td>\n",
              "      <td>0.5</td>\n",
              "      <td>0.6</td>\n",
              "      <td>1.0</td>\n",
              "      <td>78</td>\n",
              "      <td>...</td>\n",
              "      <td>78</td>\n",
              "      <td>157</td>\n",
              "      <td>0.497</td>\n",
              "      <td>0.494</td>\n",
              "      <td>22</td>\n",
              "      <td>39</td>\n",
              "      <td>0.564</td>\n",
              "      <td>42</td>\n",
              "      <td>61</td>\n",
              "      <td>178</td>\n",
              "    </tr>\n",
              "    <tr>\n",
              "      <th>24621</th>\n",
              "      <td>2017</td>\n",
              "      <td>C</td>\n",
              "      <td>20.0</td>\n",
              "      <td>19</td>\n",
              "      <td>0.346</td>\n",
              "      <td>0.161</td>\n",
              "      <td>-0.1</td>\n",
              "      <td>0.1</td>\n",
              "      <td>0.0</td>\n",
              "      <td>10</td>\n",
              "      <td>...</td>\n",
              "      <td>10</td>\n",
              "      <td>31</td>\n",
              "      <td>0.323</td>\n",
              "      <td>0.323</td>\n",
              "      <td>3</td>\n",
              "      <td>5</td>\n",
              "      <td>0.600</td>\n",
              "      <td>4</td>\n",
              "      <td>17</td>\n",
              "      <td>23</td>\n",
              "    </tr>\n",
              "    <tr>\n",
              "      <th>24622</th>\n",
              "      <td>2017</td>\n",
              "      <td>SF</td>\n",
              "      <td>22.0</td>\n",
              "      <td>44</td>\n",
              "      <td>0.503</td>\n",
              "      <td>0.181</td>\n",
              "      <td>-0.3</td>\n",
              "      <td>0.8</td>\n",
              "      <td>0.5</td>\n",
              "      <td>88</td>\n",
              "      <td>...</td>\n",
              "      <td>55</td>\n",
              "      <td>122</td>\n",
              "      <td>0.451</td>\n",
              "      <td>0.473</td>\n",
              "      <td>31</td>\n",
              "      <td>40</td>\n",
              "      <td>0.775</td>\n",
              "      <td>36</td>\n",
              "      <td>78</td>\n",
              "      <td>240</td>\n",
              "    </tr>\n",
              "    <tr>\n",
              "      <th>24623</th>\n",
              "      <td>2017</td>\n",
              "      <td>C</td>\n",
              "      <td>19.0</td>\n",
              "      <td>38</td>\n",
              "      <td>0.547</td>\n",
              "      <td>0.206</td>\n",
              "      <td>0.6</td>\n",
              "      <td>0.5</td>\n",
              "      <td>1.1</td>\n",
              "      <td>126</td>\n",
              "      <td>...</td>\n",
              "      <td>126</td>\n",
              "      <td>235</td>\n",
              "      <td>0.536</td>\n",
              "      <td>0.529</td>\n",
              "      <td>32</td>\n",
              "      <td>49</td>\n",
              "      <td>0.653</td>\n",
              "      <td>30</td>\n",
              "      <td>66</td>\n",
              "      <td>284</td>\n",
              "    </tr>\n",
              "  </tbody>\n",
              "</table>\n",
              "<p>24585 rows × 22 columns</p>\n",
              "</div>\n",
              "      <button class=\"colab-df-convert\" onclick=\"convertToInteractive('df-7a657ecf-5d13-45d6-a980-890edd8171e4')\"\n",
              "              title=\"Convert this dataframe to an interactive table.\"\n",
              "              style=\"display:none;\">\n",
              "        \n",
              "  <svg xmlns=\"http://www.w3.org/2000/svg\" height=\"24px\"viewBox=\"0 0 24 24\"\n",
              "       width=\"24px\">\n",
              "    <path d=\"M0 0h24v24H0V0z\" fill=\"none\"/>\n",
              "    <path d=\"M18.56 5.44l.94 2.06.94-2.06 2.06-.94-2.06-.94-.94-2.06-.94 2.06-2.06.94zm-11 1L8.5 8.5l.94-2.06 2.06-.94-2.06-.94L8.5 2.5l-.94 2.06-2.06.94zm10 10l.94 2.06.94-2.06 2.06-.94-2.06-.94-.94-2.06-.94 2.06-2.06.94z\"/><path d=\"M17.41 7.96l-1.37-1.37c-.4-.4-.92-.59-1.43-.59-.52 0-1.04.2-1.43.59L10.3 9.45l-7.72 7.72c-.78.78-.78 2.05 0 2.83L4 21.41c.39.39.9.59 1.41.59.51 0 1.02-.2 1.41-.59l7.78-7.78 2.81-2.81c.8-.78.8-2.07 0-2.86zM5.41 20L4 18.59l7.72-7.72 1.47 1.35L5.41 20z\"/>\n",
              "  </svg>\n",
              "      </button>\n",
              "      \n",
              "  <style>\n",
              "    .colab-df-container {\n",
              "      display:flex;\n",
              "      flex-wrap:wrap;\n",
              "      gap: 12px;\n",
              "    }\n",
              "\n",
              "    .colab-df-convert {\n",
              "      background-color: #E8F0FE;\n",
              "      border: none;\n",
              "      border-radius: 50%;\n",
              "      cursor: pointer;\n",
              "      display: none;\n",
              "      fill: #1967D2;\n",
              "      height: 32px;\n",
              "      padding: 0 0 0 0;\n",
              "      width: 32px;\n",
              "    }\n",
              "\n",
              "    .colab-df-convert:hover {\n",
              "      background-color: #E2EBFA;\n",
              "      box-shadow: 0px 1px 2px rgba(60, 64, 67, 0.3), 0px 1px 3px 1px rgba(60, 64, 67, 0.15);\n",
              "      fill: #174EA6;\n",
              "    }\n",
              "\n",
              "    [theme=dark] .colab-df-convert {\n",
              "      background-color: #3B4455;\n",
              "      fill: #D2E3FC;\n",
              "    }\n",
              "\n",
              "    [theme=dark] .colab-df-convert:hover {\n",
              "      background-color: #434B5C;\n",
              "      box-shadow: 0px 1px 3px 1px rgba(0, 0, 0, 0.15);\n",
              "      filter: drop-shadow(0px 1px 2px rgba(0, 0, 0, 0.3));\n",
              "      fill: #FFFFFF;\n",
              "    }\n",
              "  </style>\n",
              "\n",
              "      <script>\n",
              "        const buttonEl =\n",
              "          document.querySelector('#df-7a657ecf-5d13-45d6-a980-890edd8171e4 button.colab-df-convert');\n",
              "        buttonEl.style.display =\n",
              "          google.colab.kernel.accessAllowed ? 'block' : 'none';\n",
              "\n",
              "        async function convertToInteractive(key) {\n",
              "          const element = document.querySelector('#df-7a657ecf-5d13-45d6-a980-890edd8171e4');\n",
              "          const dataTable =\n",
              "            await google.colab.kernel.invokeFunction('convertToInteractive',\n",
              "                                                     [key], {});\n",
              "          if (!dataTable) return;\n",
              "\n",
              "          const docLinkHtml = 'Like what you see? Visit the ' +\n",
              "            '<a target=\"_blank\" href=https://colab.research.google.com/notebooks/data_table.ipynb>data table notebook</a>'\n",
              "            + ' to learn more about interactive tables.';\n",
              "          element.innerHTML = '';\n",
              "          dataTable['output_type'] = 'display_data';\n",
              "          await google.colab.output.renderOutput(dataTable, element);\n",
              "          const docLink = document.createElement('div');\n",
              "          docLink.innerHTML = docLinkHtml;\n",
              "          element.appendChild(docLink);\n",
              "        }\n",
              "      </script>\n",
              "    </div>\n",
              "  </div>\n",
              "  "
            ]
          },
          "metadata": {},
          "execution_count": 3
        }
      ]
    },
    {
      "cell_type": "code",
      "source": [
        "# split entre treinamento e teste\n",
        "X_train, X_test, y_train, y_test = train_test_split(df_nba_copy.drop('WinShares', axis=1), # aqui informamos os atributos\n",
        "                                                    df_nba_copy['WinShares'], # aqui informamos as labels e na mesma ordem dos atributos\n",
        "                                                    test_size=0.25, # informamos a porcentagem de divisão da base. Geralmente é algo entre 20% (0.20) a 35% (0.35)\n",
        "                                                    random_state=0) # aqui informamos um \"seed\". É um valor aleatório e usado para que alguns algoritmos iniciem de forma aleatória a sua divisão."
      ],
      "metadata": {
        "id": "F4wPzXodS7xH"
      },
      "execution_count": 4,
      "outputs": []
    },
    {
      "cell_type": "markdown",
      "source": [
        "# **Pipelines sem scaler**"
      ],
      "metadata": {
        "id": "YnpjuloTTAD3"
      }
    },
    {
      "cell_type": "code",
      "source": [
        "classifiers_list = [\n",
        "    KNeighborsRegressor(),\n",
        "    LinearRegression(),\n",
        "    SVR()\n",
        "]"
      ],
      "metadata": {
        "id": "EqZng81YKdGc"
      },
      "execution_count": 5,
      "outputs": []
    },
    {
      "cell_type": "code",
      "source": [
        "for classifier in classifiers_list:\n",
        "    pipe = Pipeline(steps=[('encoder', OrdinalEncoder(handle_unknown='use_encoded_value', unknown_value=-1)), ('impmean', SimpleImputer(missing_values=np.nan, strategy='mean')), (\"classifier\", classifier)])\n",
        "    pipe.fit(X_train, y_train)\n",
        "    print(classifier)\n",
        "    print(\"Resultados do score: %.3f\" % pipe.score(X_test, y_test))\n",
        "    \n",
        "    y_pred_sc = pipe.predict(X_test)\n",
        "    display(f'Resultados de predict: {y_pred_sc}')\n",
        "    display(f'Resultados real: {y_test.values}')\n",
        "    display(f'R2: {r2_score(y_test, y_pred_sc)}')\n",
        "    display(f'MAE: {mean_absolute_error(y_test, y_pred_sc)}')\n",
        "    display(f'MSE: {mean_squared_error(y_test, y_pred_sc)}')\n",
        "    display(f'RMSE: {mean_squared_error(y_test, y_pred_sc, squared=False)}')\n",
        "    display(f'MAPE: {mean_absolute_percentage_error(y_test, y_pred_sc)}')\n"
      ],
      "metadata": {
        "colab": {
          "base_uri": "https://localhost:8080/",
          "height": 518
        },
        "id": "fXoCerRIaAO7",
        "outputId": "84d85539-7563-401a-aaf3-dcdaacf524b4"
      },
      "execution_count": 6,
      "outputs": [
        {
          "output_type": "stream",
          "name": "stdout",
          "text": [
            "KNeighborsRegressor()\n",
            "Resultados do score: 0.677\n"
          ]
        },
        {
          "output_type": "display_data",
          "data": {
            "text/plain": [
              "'Resultados de predict: [ 4.96  8.42 -0.18 ...  1.94  4.42  1.62]'"
            ],
            "application/vnd.google.colaboratory.intrinsic+json": {
              "type": "string"
            }
          },
          "metadata": {}
        },
        {
          "output_type": "display_data",
          "data": {
            "text/plain": [
              "'Resultados real: [5.7 9.5 0.1 ... 0.5 5.  1.7]'"
            ],
            "application/vnd.google.colaboratory.intrinsic+json": {
              "type": "string"
            }
          },
          "metadata": {}
        },
        {
          "output_type": "display_data",
          "data": {
            "text/plain": [
              "'R2: 0.6768621583035929'"
            ],
            "application/vnd.google.colaboratory.intrinsic+json": {
              "type": "string"
            }
          },
          "metadata": {}
        },
        {
          "output_type": "display_data",
          "data": {
            "text/plain": [
              "'MAE: 0.8932942898975109'"
            ],
            "application/vnd.google.colaboratory.intrinsic+json": {
              "type": "string"
            }
          },
          "metadata": {}
        },
        {
          "output_type": "display_data",
          "data": {
            "text/plain": [
              "'MSE: 3.0149666503985686'"
            ],
            "application/vnd.google.colaboratory.intrinsic+json": {
              "type": "string"
            }
          },
          "metadata": {}
        },
        {
          "output_type": "display_data",
          "data": {
            "text/plain": [
              "'RMSE: 1.7363659321694171'"
            ],
            "application/vnd.google.colaboratory.intrinsic+json": {
              "type": "string"
            }
          },
          "metadata": {}
        },
        {
          "output_type": "display_data",
          "data": {
            "text/plain": [
              "'MAPE: 44852833770558.93'"
            ],
            "application/vnd.google.colaboratory.intrinsic+json": {
              "type": "string"
            }
          },
          "metadata": {}
        },
        {
          "output_type": "stream",
          "name": "stdout",
          "text": [
            "LinearRegression()\n",
            "Resultados do score: 0.952\n"
          ]
        },
        {
          "output_type": "display_data",
          "data": {
            "text/plain": [
              "'Resultados de predict: [5.70284449 9.4164109  0.00998172 ... 0.49275285 5.11809041 1.60606941]'"
            ],
            "application/vnd.google.colaboratory.intrinsic+json": {
              "type": "string"
            }
          },
          "metadata": {}
        },
        {
          "output_type": "display_data",
          "data": {
            "text/plain": [
              "'Resultados real: [5.7 9.5 0.1 ... 0.5 5.  1.7]'"
            ],
            "application/vnd.google.colaboratory.intrinsic+json": {
              "type": "string"
            }
          },
          "metadata": {}
        },
        {
          "output_type": "display_data",
          "data": {
            "text/plain": [
              "'R2: 0.95232854023798'"
            ],
            "application/vnd.google.colaboratory.intrinsic+json": {
              "type": "string"
            }
          },
          "metadata": {}
        },
        {
          "output_type": "display_data",
          "data": {
            "text/plain": [
              "'MAE: 0.07632806526657919'"
            ],
            "application/vnd.google.colaboratory.intrinsic+json": {
              "type": "string"
            }
          },
          "metadata": {}
        },
        {
          "output_type": "display_data",
          "data": {
            "text/plain": [
              "'MSE: 0.44478808363565836'"
            ],
            "application/vnd.google.colaboratory.intrinsic+json": {
              "type": "string"
            }
          },
          "metadata": {}
        },
        {
          "output_type": "display_data",
          "data": {
            "text/plain": [
              "'RMSE: 0.6669243462609971'"
            ],
            "application/vnd.google.colaboratory.intrinsic+json": {
              "type": "string"
            }
          },
          "metadata": {}
        },
        {
          "output_type": "display_data",
          "data": {
            "text/plain": [
              "'MAPE: 8345496461375.9795'"
            ],
            "application/vnd.google.colaboratory.intrinsic+json": {
              "type": "string"
            }
          },
          "metadata": {}
        },
        {
          "output_type": "stream",
          "name": "stdout",
          "text": [
            "SVR()\n",
            "Resultados do score: 0.871\n"
          ]
        },
        {
          "output_type": "display_data",
          "data": {
            "text/plain": [
              "'Resultados de predict: [ 5.42095268  9.48469681 -0.07476181 ...  0.94027109  4.35113015\\n  1.65901435]'"
            ],
            "application/vnd.google.colaboratory.intrinsic+json": {
              "type": "string"
            }
          },
          "metadata": {}
        },
        {
          "output_type": "display_data",
          "data": {
            "text/plain": [
              "'Resultados real: [5.7 9.5 0.1 ... 0.5 5.  1.7]'"
            ],
            "application/vnd.google.colaboratory.intrinsic+json": {
              "type": "string"
            }
          },
          "metadata": {}
        },
        {
          "output_type": "display_data",
          "data": {
            "text/plain": [
              "'R2: 0.8708416710358469'"
            ],
            "application/vnd.google.colaboratory.intrinsic+json": {
              "type": "string"
            }
          },
          "metadata": {}
        },
        {
          "output_type": "display_data",
          "data": {
            "text/plain": [
              "'MAE: 0.43965985037503996'"
            ],
            "application/vnd.google.colaboratory.intrinsic+json": {
              "type": "string"
            }
          },
          "metadata": {}
        },
        {
          "output_type": "display_data",
          "data": {
            "text/plain": [
              "'MSE: 1.2050834170452376'"
            ],
            "application/vnd.google.colaboratory.intrinsic+json": {
              "type": "string"
            }
          },
          "metadata": {}
        },
        {
          "output_type": "display_data",
          "data": {
            "text/plain": [
              "'RMSE: 1.097762914770415'"
            ],
            "application/vnd.google.colaboratory.intrinsic+json": {
              "type": "string"
            }
          },
          "metadata": {}
        },
        {
          "output_type": "display_data",
          "data": {
            "text/plain": [
              "'MAPE: 26998725995323.01'"
            ],
            "application/vnd.google.colaboratory.intrinsic+json": {
              "type": "string"
            }
          },
          "metadata": {}
        }
      ]
    },
    {
      "cell_type": "markdown",
      "source": [
        "# **Pipelines com scaler**"
      ],
      "metadata": {
        "id": "3z_5R-Uqkw4G"
      }
    },
    {
      "cell_type": "code",
      "source": [
        "classifiers_list = [\n",
        "    KNeighborsRegressor(),\n",
        "    LinearRegression(),\n",
        "    SVR()\n",
        "]"
      ],
      "metadata": {
        "id": "8OI_IddGuJih"
      },
      "execution_count": 7,
      "outputs": []
    },
    {
      "cell_type": "code",
      "source": [
        "for classifier in classifiers_list:\n",
        "    pipe = Pipeline(steps=[('encoder', OrdinalEncoder(handle_unknown='use_encoded_value', unknown_value=-1)), ('impmean', SimpleImputer(missing_values=np.nan, strategy='mean')), ('scaler', RobustScaler()), (\"classifier\", classifier)])\n",
        "    pipe.fit(X_train, y_train)\n",
        "    print(classifier)\n",
        "    print(\"Resultados do score: %.3f\" % pipe.score(X_test, y_test))\n",
        "    \n",
        "    y_pred_cs = pipe.predict(X_test)\n",
        "    display(f'Resultados de predict: {y_pred_cs}')\n",
        "    display(f'Resultados real: {y_test.values}')\n",
        "    display(f'R2: {r2_score(y_test, y_pred_cs)}')\n",
        "    display(f'MAE: {mean_absolute_error(y_test, y_pred_cs)}')\n",
        "    display(f'MSE: {mean_squared_error(y_test, y_pred_cs)}')\n",
        "    display(f'RMSE: {mean_squared_error(y_test, y_pred_cs, squared=False)}')\n",
        "    display(f'MAPE: {mean_absolute_percentage_error(y_test, y_pred_cs)}')"
      ],
      "metadata": {
        "colab": {
          "base_uri": "https://localhost:8080/",
          "height": 518
        },
        "id": "_Os59_86pREY",
        "outputId": "caa0529b-1cd6-4190-adc2-7023c87198af"
      },
      "execution_count": 8,
      "outputs": [
        {
          "output_type": "stream",
          "name": "stdout",
          "text": [
            "KNeighborsRegressor()\n",
            "Resultados do score: 0.921\n"
          ]
        },
        {
          "output_type": "display_data",
          "data": {
            "text/plain": [
              "'Resultados de predict: [ 5.66  9.06 -0.1  ...  1.    4.7   1.32]'"
            ],
            "application/vnd.google.colaboratory.intrinsic+json": {
              "type": "string"
            }
          },
          "metadata": {}
        },
        {
          "output_type": "display_data",
          "data": {
            "text/plain": [
              "'Resultados real: [5.7 9.5 0.1 ... 0.5 5.  1.7]'"
            ],
            "application/vnd.google.colaboratory.intrinsic+json": {
              "type": "string"
            }
          },
          "metadata": {}
        },
        {
          "output_type": "display_data",
          "data": {
            "text/plain": [
              "'R2: 0.9212347875498904'"
            ],
            "application/vnd.google.colaboratory.intrinsic+json": {
              "type": "string"
            }
          },
          "metadata": {}
        },
        {
          "output_type": "display_data",
          "data": {
            "text/plain": [
              "'MAE: 0.419928420367659'"
            ],
            "application/vnd.google.colaboratory.intrinsic+json": {
              "type": "string"
            }
          },
          "metadata": {}
        },
        {
          "output_type": "display_data",
          "data": {
            "text/plain": [
              "'MSE: 0.7349015129331381'"
            ],
            "application/vnd.google.colaboratory.intrinsic+json": {
              "type": "string"
            }
          },
          "metadata": {}
        },
        {
          "output_type": "display_data",
          "data": {
            "text/plain": [
              "'RMSE: 0.8572639692260128'"
            ],
            "application/vnd.google.colaboratory.intrinsic+json": {
              "type": "string"
            }
          },
          "metadata": {}
        },
        {
          "output_type": "display_data",
          "data": {
            "text/plain": [
              "'MAPE: 40881870702338.75'"
            ],
            "application/vnd.google.colaboratory.intrinsic+json": {
              "type": "string"
            }
          },
          "metadata": {}
        },
        {
          "output_type": "stream",
          "name": "stdout",
          "text": [
            "LinearRegression()\n",
            "Resultados do score: 0.952\n"
          ]
        },
        {
          "output_type": "display_data",
          "data": {
            "text/plain": [
              "'Resultados de predict: [5.70284449 9.4164109  0.00998172 ... 0.49275285 5.11809041 1.60606941]'"
            ],
            "application/vnd.google.colaboratory.intrinsic+json": {
              "type": "string"
            }
          },
          "metadata": {}
        },
        {
          "output_type": "display_data",
          "data": {
            "text/plain": [
              "'Resultados real: [5.7 9.5 0.1 ... 0.5 5.  1.7]'"
            ],
            "application/vnd.google.colaboratory.intrinsic+json": {
              "type": "string"
            }
          },
          "metadata": {}
        },
        {
          "output_type": "display_data",
          "data": {
            "text/plain": [
              "'R2: 0.95232854023798'"
            ],
            "application/vnd.google.colaboratory.intrinsic+json": {
              "type": "string"
            }
          },
          "metadata": {}
        },
        {
          "output_type": "display_data",
          "data": {
            "text/plain": [
              "'MAE: 0.07632806526658074'"
            ],
            "application/vnd.google.colaboratory.intrinsic+json": {
              "type": "string"
            }
          },
          "metadata": {}
        },
        {
          "output_type": "display_data",
          "data": {
            "text/plain": [
              "'MSE: 0.44478808363565825'"
            ],
            "application/vnd.google.colaboratory.intrinsic+json": {
              "type": "string"
            }
          },
          "metadata": {}
        },
        {
          "output_type": "display_data",
          "data": {
            "text/plain": [
              "'RMSE: 0.6669243462609971'"
            ],
            "application/vnd.google.colaboratory.intrinsic+json": {
              "type": "string"
            }
          },
          "metadata": {}
        },
        {
          "output_type": "display_data",
          "data": {
            "text/plain": [
              "'MAPE: 8345496461377.116'"
            ],
            "application/vnd.google.colaboratory.intrinsic+json": {
              "type": "string"
            }
          },
          "metadata": {}
        },
        {
          "output_type": "stream",
          "name": "stdout",
          "text": [
            "SVR()\n",
            "Resultados do score: 0.903\n"
          ]
        },
        {
          "output_type": "display_data",
          "data": {
            "text/plain": [
              "'Resultados de predict: [5.68845231 9.45373767 0.10597586 ... 0.5165515  4.99743975 1.55030912]'"
            ],
            "application/vnd.google.colaboratory.intrinsic+json": {
              "type": "string"
            }
          },
          "metadata": {}
        },
        {
          "output_type": "display_data",
          "data": {
            "text/plain": [
              "'Resultados real: [5.7 9.5 0.1 ... 0.5 5.  1.7]'"
            ],
            "application/vnd.google.colaboratory.intrinsic+json": {
              "type": "string"
            }
          },
          "metadata": {}
        },
        {
          "output_type": "display_data",
          "data": {
            "text/plain": [
              "'R2: 0.9029436353549879'"
            ],
            "application/vnd.google.colaboratory.intrinsic+json": {
              "type": "string"
            }
          },
          "metadata": {}
        },
        {
          "output_type": "display_data",
          "data": {
            "text/plain": [
              "'MAE: 0.18617696608425174'"
            ],
            "application/vnd.google.colaboratory.intrinsic+json": {
              "type": "string"
            }
          },
          "metadata": {}
        },
        {
          "output_type": "display_data",
          "data": {
            "text/plain": [
              "'MSE: 0.905563090591404'"
            ],
            "application/vnd.google.colaboratory.intrinsic+json": {
              "type": "string"
            }
          },
          "metadata": {}
        },
        {
          "output_type": "display_data",
          "data": {
            "text/plain": [
              "'RMSE: 0.9516107873450175'"
            ],
            "application/vnd.google.colaboratory.intrinsic+json": {
              "type": "string"
            }
          },
          "metadata": {}
        },
        {
          "output_type": "display_data",
          "data": {
            "text/plain": [
              "'MAPE: 21919109849998.02'"
            ],
            "application/vnd.google.colaboratory.intrinsic+json": {
              "type": "string"
            }
          },
          "metadata": {}
        }
      ]
    },
    {
      "cell_type": "markdown",
      "source": [
        "#**PCA**"
      ],
      "metadata": {
        "id": "FwfVxAoLxQjB"
      }
    },
    {
      "cell_type": "code",
      "source": [
        "classifiers_list = [\n",
        "    KNeighborsRegressor(),\n",
        "    LinearRegression(),\n",
        "    SVR()\n",
        "]"
      ],
      "metadata": {
        "id": "jcIfMJuHA1pf"
      },
      "execution_count": 9,
      "outputs": []
    },
    {
      "cell_type": "code",
      "source": [
        "for classifier in classifiers_list:\n",
        "    pipe = Pipeline(steps=[('encoder', OrdinalEncoder(handle_unknown='use_encoded_value', unknown_value=-1)), ('impmean', SimpleImputer(missing_values=np.nan, strategy='mean')), ('pca', PCA(n_components=5)), (\"classifier\", classifier)])\n",
        "    pipe.fit(X_train, y_train)\n",
        "    print(classifier)\n",
        "    print(\"Resultados do score: %.3f\" % pipe.score(X_test, y_test))\n",
        "    \n",
        "    y_pred_pca = pipe.predict(X_test)\n",
        "    display(f'Resultados de predict: {y_pred_pca}')\n",
        "    display(f'Resultados real: {y_test.values}')\n",
        "    display(f'R2: {r2_score(y_test, y_pred_pca)}')\n",
        "    display(f'MAE: {mean_absolute_error(y_test, y_pred_pca)}')\n",
        "    display(f'MSE: {mean_squared_error(y_test, y_pred_pca)}')\n",
        "    display(f'RMSE: {mean_squared_error(y_test, y_pred_pca, squared=False)}')\n",
        "    display(f'MAPE: {mean_absolute_percentage_error(y_test, y_pred_pca)}')\n",
        "    "
      ],
      "metadata": {
        "id": "demQEhw5pQ5_",
        "colab": {
          "base_uri": "https://localhost:8080/",
          "height": 518
        },
        "outputId": "93a2d324-8e8d-4bee-cc55-18880f1343e1"
      },
      "execution_count": 10,
      "outputs": [
        {
          "output_type": "stream",
          "name": "stdout",
          "text": [
            "KNeighborsRegressor()\n",
            "Resultados do score: 0.679\n"
          ]
        },
        {
          "output_type": "display_data",
          "data": {
            "text/plain": [
              "'Resultados de predict: [ 3.68  8.42 -0.18 ...  1.86  3.9   1.82]'"
            ],
            "application/vnd.google.colaboratory.intrinsic+json": {
              "type": "string"
            }
          },
          "metadata": {}
        },
        {
          "output_type": "display_data",
          "data": {
            "text/plain": [
              "'Resultados real: [5.7 9.5 0.1 ... 0.5 5.  1.7]'"
            ],
            "application/vnd.google.colaboratory.intrinsic+json": {
              "type": "string"
            }
          },
          "metadata": {}
        },
        {
          "output_type": "display_data",
          "data": {
            "text/plain": [
              "'R2: 0.6785963935750812'"
            ],
            "application/vnd.google.colaboratory.intrinsic+json": {
              "type": "string"
            }
          },
          "metadata": {}
        },
        {
          "output_type": "display_data",
          "data": {
            "text/plain": [
              "'MAE: 0.9266048478932813'"
            ],
            "application/vnd.google.colaboratory.intrinsic+json": {
              "type": "string"
            }
          },
          "metadata": {}
        },
        {
          "output_type": "display_data",
          "data": {
            "text/plain": [
              "'MSE: 2.9987857491459247'"
            ],
            "application/vnd.google.colaboratory.intrinsic+json": {
              "type": "string"
            }
          },
          "metadata": {}
        },
        {
          "output_type": "display_data",
          "data": {
            "text/plain": [
              "'RMSE: 1.7317002480642902'"
            ],
            "application/vnd.google.colaboratory.intrinsic+json": {
              "type": "string"
            }
          },
          "metadata": {}
        },
        {
          "output_type": "display_data",
          "data": {
            "text/plain": [
              "'MAPE: 46596540800515.34'"
            ],
            "application/vnd.google.colaboratory.intrinsic+json": {
              "type": "string"
            }
          },
          "metadata": {}
        },
        {
          "output_type": "stream",
          "name": "stdout",
          "text": [
            "LinearRegression()\n",
            "Resultados do score: 0.650\n"
          ]
        },
        {
          "output_type": "display_data",
          "data": {
            "text/plain": [
              "'Resultados de predict: [ 4.88248921  8.40813999 -0.56879511 ...  2.534925    4.1296486\\n  2.5574476 ]'"
            ],
            "application/vnd.google.colaboratory.intrinsic+json": {
              "type": "string"
            }
          },
          "metadata": {}
        },
        {
          "output_type": "display_data",
          "data": {
            "text/plain": [
              "'Resultados real: [5.7 9.5 0.1 ... 0.5 5.  1.7]'"
            ],
            "application/vnd.google.colaboratory.intrinsic+json": {
              "type": "string"
            }
          },
          "metadata": {}
        },
        {
          "output_type": "display_data",
          "data": {
            "text/plain": [
              "'R2: 0.6497421845694764'"
            ],
            "application/vnd.google.colaboratory.intrinsic+json": {
              "type": "string"
            }
          },
          "metadata": {}
        },
        {
          "output_type": "display_data",
          "data": {
            "text/plain": [
              "'MAE: 1.1055554799918006'"
            ],
            "application/vnd.google.colaboratory.intrinsic+json": {
              "type": "string"
            }
          },
          "metadata": {}
        },
        {
          "output_type": "display_data",
          "data": {
            "text/plain": [
              "'MSE: 3.2680036080597095'"
            ],
            "application/vnd.google.colaboratory.intrinsic+json": {
              "type": "string"
            }
          },
          "metadata": {}
        },
        {
          "output_type": "display_data",
          "data": {
            "text/plain": [
              "'RMSE: 1.8077620440920064'"
            ],
            "application/vnd.google.colaboratory.intrinsic+json": {
              "type": "string"
            }
          },
          "metadata": {}
        },
        {
          "output_type": "display_data",
          "data": {
            "text/plain": [
              "'MAPE: 258223843014380.97'"
            ],
            "application/vnd.google.colaboratory.intrinsic+json": {
              "type": "string"
            }
          },
          "metadata": {}
        },
        {
          "output_type": "stream",
          "name": "stdout",
          "text": [
            "SVR()\n",
            "Resultados do score: 0.716\n"
          ]
        },
        {
          "output_type": "display_data",
          "data": {
            "text/plain": [
              "'Resultados de predict: [ 4.77048226  9.09337539 -0.11819013 ...  1.87293823  2.89962091\\n  1.46262845]'"
            ],
            "application/vnd.google.colaboratory.intrinsic+json": {
              "type": "string"
            }
          },
          "metadata": {}
        },
        {
          "output_type": "display_data",
          "data": {
            "text/plain": [
              "'Resultados real: [5.7 9.5 0.1 ... 0.5 5.  1.7]'"
            ],
            "application/vnd.google.colaboratory.intrinsic+json": {
              "type": "string"
            }
          },
          "metadata": {}
        },
        {
          "output_type": "display_data",
          "data": {
            "text/plain": [
              "'R2: 0.716260997305284'"
            ],
            "application/vnd.google.colaboratory.intrinsic+json": {
              "type": "string"
            }
          },
          "metadata": {}
        },
        {
          "output_type": "display_data",
          "data": {
            "text/plain": [
              "'MAE: 0.8463773384933494'"
            ],
            "application/vnd.google.colaboratory.intrinsic+json": {
              "type": "string"
            }
          },
          "metadata": {}
        },
        {
          "output_type": "display_data",
          "data": {
            "text/plain": [
              "'MSE: 2.6473644375753405'"
            ],
            "application/vnd.google.colaboratory.intrinsic+json": {
              "type": "string"
            }
          },
          "metadata": {}
        },
        {
          "output_type": "display_data",
          "data": {
            "text/plain": [
              "'RMSE: 1.6270723516719656'"
            ],
            "application/vnd.google.colaboratory.intrinsic+json": {
              "type": "string"
            }
          },
          "metadata": {}
        },
        {
          "output_type": "display_data",
          "data": {
            "text/plain": [
              "'MAPE: 44134258880382.914'"
            ],
            "application/vnd.google.colaboratory.intrinsic+json": {
              "type": "string"
            }
          },
          "metadata": {}
        }
      ]
    },
    {
      "cell_type": "markdown",
      "source": [
        "# **Conclusão**"
      ],
      "metadata": {
        "id": "v1uaju0HdyQh"
      }
    },
    {
      "cell_type": "markdown",
      "source": [
        "LinearRegression(), apresentou a melhor previsão "
      ],
      "metadata": {
        "id": "h82YRgKzd2wh"
      }
    }
  ]
}